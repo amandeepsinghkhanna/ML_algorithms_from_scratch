{
 "cells": [
  {
   "cell_type": "code",
   "execution_count": 12,
   "metadata": {},
   "outputs": [
    {
     "data": {
      "text/plain": [
       "[[4, 0, 1],\n",
       " [8, 1, 2],\n",
       " [7, 2, 3],\n",
       " [9, 3, 4],\n",
       " [10, 4, 5],\n",
       " [2, 5, 6],\n",
       " [1, 6, 7],\n",
       " [8, 7, 0],\n",
       " [11, 1, 7],\n",
       " [7, 7, 8],\n",
       " [2, 2, 8],\n",
       " [6, 8, 6],\n",
       " [4, 2, 5],\n",
       " [14, 3, 5]]"
      ]
     },
     "execution_count": 12,
     "metadata": {},
     "output_type": "execute_result"
    }
   ],
   "source": [
    "# input matrix in the form: \n",
    "# [weight, source, destination]\n",
    "input_matrix = [\n",
    "    [4, 0, 1],\n",
    "    [8, 1, 2],\n",
    "    [7, 2, 3],\n",
    "    [9, 3, 4],\n",
    "    [10, 4, 5],\n",
    "    [2, 5, 6],\n",
    "    [1, 6, 7],\n",
    "    [8, 7, 0],\n",
    "    [11, 1, 7],\n",
    "    [7, 7, 8],\n",
    "    [2, 2, 8],\n",
    "    [6, 8, 6],\n",
    "    [4, 2, 5],\n",
    "    [14, 3, 5],\n",
    "]\n",
    "input_matrix"
   ]
  },
  {
   "cell_type": "code",
   "execution_count": 13,
   "metadata": {},
   "outputs": [
    {
     "data": {
      "text/plain": [
       "[[1, 6, 7],\n",
       " [2, 2, 8],\n",
       " [2, 5, 6],\n",
       " [4, 0, 1],\n",
       " [4, 2, 5],\n",
       " [6, 8, 6],\n",
       " [7, 2, 3],\n",
       " [7, 7, 8],\n",
       " [8, 1, 2],\n",
       " [8, 7, 0],\n",
       " [9, 3, 4],\n",
       " [10, 4, 5],\n",
       " [11, 1, 7],\n",
       " [14, 3, 5]]"
      ]
     },
     "execution_count": 13,
     "metadata": {},
     "output_type": "execute_result"
    }
   ],
   "source": [
    "input_matrix.sort()\n",
    "input_matrix"
   ]
  },
  {
   "cell_type": "code",
   "execution_count": 14,
   "metadata": {},
   "outputs": [
    {
     "data": {
      "text/plain": [
       "[0, 1, 2, 3, 4, 5, 6, 7, 8]"
      ]
     },
     "execution_count": 14,
     "metadata": {},
     "output_type": "execute_result"
    }
   ],
   "source": [
    "nodes = set()\n",
    "for edge in input_matrix:\n",
    "    nodes.add(edge[1])\n",
    "    nodes.add(edge[2])\n",
    "nodes = list(nodes)\n",
    "nodes"
   ]
  },
  {
   "cell_type": "code",
   "execution_count": 15,
   "metadata": {},
   "outputs": [],
   "source": [
    "output_edge_threshold = len(nodes) - 1"
   ]
  },
  {
   "cell_type": "code",
   "execution_count": 16,
   "metadata": {},
   "outputs": [],
   "source": [
    "node_set = [{i} for i in range(len(nodes))]"
   ]
  },
  {
   "cell_type": "code",
   "execution_count": 17,
   "metadata": {},
   "outputs": [
    {
     "data": {
      "text/plain": [
       "[{0}, {1}, {2}, {3}, {4}, {5}, {6}, {7}, {8}]"
      ]
     },
     "execution_count": 17,
     "metadata": {},
     "output_type": "execute_result"
    }
   ],
   "source": [
    "node_set"
   ]
  },
  {
   "cell_type": "code",
   "execution_count": 18,
   "metadata": {},
   "outputs": [],
   "source": [
    "def find_subsets(source_val, destination_val, node_set):\n",
    "    source_subset = []\n",
    "    destination_subset = []\n",
    "    for subset_index in range(len(node_set)):\n",
    "        if source_val in node_set[subset_index]:\n",
    "            source_subset.append(node_set[subset_index])\n",
    "        if destination_val in node_set[subset_index]:\n",
    "            destination_subset.append(node_set[subset_index])\n",
    "    return source_subset, destination_subset"
   ]
  },
  {
   "cell_type": "code",
   "execution_count": 19,
   "metadata": {},
   "outputs": [],
   "source": [
    "def update_node_subsets(subset, node_set):\n",
    "    temp_node_set = node_set.copy()\n",
    "    for s in subset:\n",
    "        temp_node_set.remove(s)\n",
    "    return temp_node_set"
   ]
  },
  {
   "cell_type": "code",
   "execution_count": 20,
   "metadata": {},
   "outputs": [],
   "source": [
    "output_matrix = []"
   ]
  },
  {
   "cell_type": "code",
   "execution_count": 21,
   "metadata": {},
   "outputs": [
    {
     "name": "stdout",
     "output_type": "stream",
     "text": [
      "Currently we are working on the edge - [1, 6, 7]\n",
      "Source subset - [{6}]; Destination subset - [{7}]\n",
      "Intersection set - set()\n",
      "Union set - {6, 7}\n",
      "New node set - [{0}, {1}, {2}, {3}, {4}, {5}, {8}, {6, 7}]\n",
      "Currently we are working on the edge - [2, 2, 8]\n",
      "Source subset - [{2}]; Destination subset - [{8}]\n",
      "Intersection set - set()\n",
      "Union set - {8, 2}\n",
      "New node set - [{0}, {1}, {3}, {4}, {5}, {6, 7}, {8, 2}]\n",
      "Currently we are working on the edge - [2, 5, 6]\n",
      "Source subset - [{5}]; Destination subset - [{6, 7}]\n",
      "Intersection set - set()\n",
      "Union set - {5, 6, 7}\n",
      "New node set - [{0}, {1}, {3}, {4}, {8, 2}, {5, 6, 7}]\n",
      "Currently we are working on the edge - [4, 0, 1]\n",
      "Source subset - [{0}]; Destination subset - [{1}]\n",
      "Intersection set - set()\n",
      "Union set - {0, 1}\n",
      "New node set - [{3}, {4}, {8, 2}, {5, 6, 7}, {0, 1}]\n",
      "Currently we are working on the edge - [4, 2, 5]\n",
      "Source subset - [{8, 2}]; Destination subset - [{5, 6, 7}]\n",
      "Intersection set - set()\n",
      "Union set - {2, 5, 6, 7, 8}\n",
      "New node set - [{3}, {4}, {0, 1}, {2, 5, 6, 7, 8}]\n",
      "Currently we are working on the edge - [6, 8, 6]\n",
      "Source subset - [{2, 5, 6, 7, 8}]; Destination subset - [{2, 5, 6, 7, 8}]\n",
      "Cycle detected\n",
      "Currently we are working on the edge - [7, 2, 3]\n",
      "Source subset - [{2, 5, 6, 7, 8}]; Destination subset - [{3}]\n",
      "Intersection set - set()\n",
      "Union set - {2, 3, 5, 6, 7, 8}\n",
      "New node set - [{4}, {0, 1}, {2, 3, 5, 6, 7, 8}]\n",
      "Currently we are working on the edge - [7, 7, 8]\n",
      "Source subset - [{2, 3, 5, 6, 7, 8}]; Destination subset - [{2, 3, 5, 6, 7, 8}]\n",
      "Cycle detected\n",
      "Currently we are working on the edge - [8, 1, 2]\n",
      "Source subset - [{0, 1}]; Destination subset - [{2, 3, 5, 6, 7, 8}]\n",
      "Intersection set - set()\n",
      "Union set - {0, 1, 2, 3, 5, 6, 7, 8}\n",
      "New node set - [{4}, {0, 1, 2, 3, 5, 6, 7, 8}]\n",
      "Currently we are working on the edge - [8, 7, 0]\n",
      "Source subset - [{0, 1, 2, 3, 5, 6, 7, 8}]; Destination subset - [{0, 1, 2, 3, 5, 6, 7, 8}]\n",
      "Cycle detected\n",
      "Currently we are working on the edge - [9, 3, 4]\n",
      "Source subset - [{0, 1, 2, 3, 5, 6, 7, 8}]; Destination subset - [{4}]\n",
      "Intersection set - set()\n",
      "Union set - {0, 1, 2, 3, 4, 5, 6, 7, 8}\n",
      "New node set - [{0, 1, 2, 3, 4, 5, 6, 7, 8}]\n",
      "Exiting the loop\n"
     ]
    }
   ],
   "source": [
    "for e in input_matrix:\n",
    "    if len(output_matrix) == output_edge_threshold:\n",
    "        print(\"Exiting the loop\")\n",
    "        break;\n",
    "    print(\"Currently we are working on the edge - {}\".format(e))\n",
    "    source = e[1]\n",
    "    destination = e[2]\n",
    "    source_subset, destination_subset = find_subsets(source, destination, node_set) \n",
    "    print(\"Source subset - {}; Destination subset - {}\".format(source_subset, destination_subset))\n",
    "    if source_subset== destination_subset:\n",
    "        print(\"Cycle detected\")\n",
    "        continue\n",
    "    temp_node_set = update_node_subsets(source_subset, node_set)\n",
    "    temp_node_set = update_node_subsets(destination_subset, temp_node_set)\n",
    "    source_set = set()\n",
    "    for subset in source_subset:\n",
    "        source_set = source_set.union(subset)\n",
    "    destination_set = set()\n",
    "    for subset in destination_subset:\n",
    "        destination_set = destination_set.union(subset)\n",
    "    intersection_set = source_set.intersection(destination_set)\n",
    "    if len(intersection_set)>0:\n",
    "        print(\"Cycle detected\")\n",
    "        continue\n",
    "    print(\"Intersection set - {}\".format(intersection_set))\n",
    "    union_set = source_set.union(destination_set)\n",
    "    print(\"Union set - {}\".format(union_set))\n",
    "    temp_node_set.append(union_set)\n",
    "    print(\"New node set - {}\".format(temp_node_set))\n",
    "    node_set = temp_node_set.copy()\n",
    "    output_matrix.append(e)"
   ]
  },
  {
   "cell_type": "code",
   "execution_count": 22,
   "metadata": {},
   "outputs": [
    {
     "data": {
      "text/plain": [
       "[[1, 6, 7],\n",
       " [2, 2, 8],\n",
       " [2, 5, 6],\n",
       " [4, 0, 1],\n",
       " [4, 2, 5],\n",
       " [7, 2, 3],\n",
       " [8, 1, 2],\n",
       " [9, 3, 4]]"
      ]
     },
     "execution_count": 22,
     "metadata": {},
     "output_type": "execute_result"
    }
   ],
   "source": [
    "output_matrix"
   ]
  },
  {
   "cell_type": "code",
   "execution_count": null,
   "metadata": {},
   "outputs": [],
   "source": []
  }
 ],
 "metadata": {
  "kernelspec": {
   "display_name": "Python 3",
   "language": "python",
   "name": "python3"
  },
  "language_info": {
   "codemirror_mode": {
    "name": "ipython",
    "version": 3
   },
   "file_extension": ".py",
   "mimetype": "text/x-python",
   "name": "python",
   "nbconvert_exporter": "python",
   "pygments_lexer": "ipython3",
   "version": "3.6.10"
  }
 },
 "nbformat": 4,
 "nbformat_minor": 4
}
