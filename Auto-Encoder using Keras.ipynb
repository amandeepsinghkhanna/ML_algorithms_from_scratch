{
 "cells": [
  {
   "cell_type": "markdown",
   "metadata": {},
   "source": [
    "Importing the required PYPI modules:"
   ]
  },
  {
   "cell_type": "code",
   "execution_count": 1,
   "metadata": {},
   "outputs": [
    {
     "name": "stderr",
     "output_type": "stream",
     "text": [
      "Using TensorFlow backend.\n"
     ]
    }
   ],
   "source": [
    "import os\n",
    "import keras\n",
    "import numpy as np"
   ]
  },
  {
   "cell_type": "markdown",
   "metadata": {},
   "source": [
    "Reading the input images of dogs:"
   ]
  },
  {
   "cell_type": "code",
   "execution_count": 2,
   "metadata": {},
   "outputs": [
    {
     "name": "stdout",
     "output_type": "stream",
     "text": [
      "Collected paths to 5017 images\n",
      "The shape of the matrix of images is - (5017, 100, 100, 1)\n"
     ]
    }
   ],
   "source": [
    "dogs_image_path_01 = \"C:\\\\Users\\\\amankhanna\\\\Documents\\\\amandeepsinghkhanna\\\\Kaggle Datasets\\\\cat-dog-classification\\\\training_set\\\\dogs\"\n",
    "dogs_image_path_02 = \"C:\\\\Users\\\\amankhanna\\\\Documents\\\\amandeepsinghkhanna\\\\Kaggle Datasets\\\\cat-dog-classification\\\\test_set\\\\dogs\"\n",
    "\n",
    "dogs_image_names_01 = os.listdir(dogs_image_path_01)\n",
    "dogs_image_names_02 = os.listdir(dogs_image_path_02)\n",
    "\n",
    "dog_image_paths = []\n",
    "for image_name in dogs_image_names_01:\n",
    "    dog_image_paths.append(os.path.join(dogs_image_path_01, image_name))\n",
    "for image_name in dogs_image_names_02:\n",
    "    dog_image_paths.append(os.path.join(dogs_image_path_02, image_name))\n",
    "print(\"Collected paths to {} images\".format(len(dog_image_paths)))\n",
    "\n",
    "dog_images = []\n",
    "for image_path in dog_image_paths:\n",
    "    image = keras.preprocessing.image.load_img(image_path, color_mode = \"grayscale\", target_size=(100, 100))\n",
    "    image = keras.preprocessing.image.img_to_array(image)\n",
    "    image = image/255.0\n",
    "    dog_images.append(image)\n",
    "dog_images = np.asarray(dog_images)\n",
    "print(\"The shape of the matrix of images is - {}\".format(dog_images.shape))"
   ]
  },
  {
   "cell_type": "markdown",
   "metadata": {},
   "source": [
    "Defining the neural network:"
   ]
  },
  {
   "cell_type": "code",
   "execution_count": 31,
   "metadata": {},
   "outputs": [],
   "source": [
    "def autoencoder_architecture(input_img):\n",
    "    \n",
    "    # ENCODER LAYER:\n",
    "    x = keras.layers.Conv2D(128, (3, 3), activation ='relu', padding ='same')(input_img)\n",
    "    x = keras.layers.MaxPooling2D((2, 2), padding ='same')(x) \n",
    "    x = keras.layers.Conv2D(64, (3, 3), activation ='relu', padding ='same')(x)\n",
    "    x = keras.layers.MaxPooling2D((2, 2), padding ='same')(x)\n",
    "    x = keras.layers.Conv2D(16, (3, 3), activation ='relu', padding ='same')(x)\n",
    "    encoded_layer = keras.layers.MaxPooling2D((2, 2), padding ='same')(x)\n",
    "    \n",
    "    # DECODER LAYER:\n",
    "    x = keras.layers.Conv2D(16, (3, 3), activation ='relu', padding ='same')(encoded_layer)\n",
    "    x = keras.layers.UpSampling2D((2, 2))(x)\n",
    "    x = keras.layers.Conv2D(64, (3, 3), activation ='relu', padding ='same')(x)\n",
    "    x = keras.layers.UpSampling2D((2, 2))(x)\n",
    "    x = keras.layers.Conv2D(128, (3, 3), activation ='relu')(x)\n",
    "    x = keras.layers.UpSampling2D((2, 2))(x)\n",
    "    decoded_layer = keras.layers.Conv2D(1, (3, 3), activation ='sigmoid', padding ='same')(x)\n",
    "    \n",
    "    return decoded_layer"
   ]
  },
  {
   "cell_type": "code",
   "execution_count": 32,
   "metadata": {},
   "outputs": [],
   "source": [
    "input_img=keras.layers.Input(shape=(100, 100, 1))"
   ]
  },
  {
   "cell_type": "code",
   "execution_count": 33,
   "metadata": {},
   "outputs": [],
   "source": [
    "decoded_layer = autoencoder_architecture(input_img)"
   ]
  },
  {
   "cell_type": "code",
   "execution_count": 34,
   "metadata": {},
   "outputs": [],
   "source": [
    "autoencoder = keras.models.Model(\n",
    "    input_img, \n",
    "    decoded_layer\n",
    ")\n",
    "autoencoder.compile(optimizer='adadelta', loss='binary_crossentropy') # Auto-encoder compiler"
   ]
  },
  {
   "cell_type": "code",
   "execution_count": 35,
   "metadata": {},
   "outputs": [
    {
     "name": "stdout",
     "output_type": "stream",
     "text": [
      "Model: \"model_3\"\n",
      "_________________________________________________________________\n",
      "Layer (type)                 Output Shape              Param #   \n",
      "=================================================================\n",
      "input_3 (InputLayer)         (None, 100, 100, 1)       0         \n",
      "_________________________________________________________________\n",
      "conv2d_15 (Conv2D)           (None, 100, 100, 128)     1280      \n",
      "_________________________________________________________________\n",
      "max_pooling2d_7 (MaxPooling2 (None, 50, 50, 128)       0         \n",
      "_________________________________________________________________\n",
      "conv2d_16 (Conv2D)           (None, 50, 50, 64)        73792     \n",
      "_________________________________________________________________\n",
      "max_pooling2d_8 (MaxPooling2 (None, 25, 25, 64)        0         \n",
      "_________________________________________________________________\n",
      "conv2d_17 (Conv2D)           (None, 25, 25, 16)        9232      \n",
      "_________________________________________________________________\n",
      "max_pooling2d_9 (MaxPooling2 (None, 13, 13, 16)        0         \n",
      "_________________________________________________________________\n",
      "conv2d_18 (Conv2D)           (None, 13, 13, 16)        2320      \n",
      "_________________________________________________________________\n",
      "up_sampling2d_7 (UpSampling2 (None, 26, 26, 16)        0         \n",
      "_________________________________________________________________\n",
      "conv2d_19 (Conv2D)           (None, 26, 26, 64)        9280      \n",
      "_________________________________________________________________\n",
      "up_sampling2d_8 (UpSampling2 (None, 52, 52, 64)        0         \n",
      "_________________________________________________________________\n",
      "conv2d_20 (Conv2D)           (None, 50, 50, 128)       73856     \n",
      "_________________________________________________________________\n",
      "up_sampling2d_9 (UpSampling2 (None, 100, 100, 128)     0         \n",
      "_________________________________________________________________\n",
      "conv2d_21 (Conv2D)           (None, 100, 100, 1)       1153      \n",
      "=================================================================\n",
      "Total params: 170,913\n",
      "Trainable params: 170,913\n",
      "Non-trainable params: 0\n",
      "_________________________________________________________________\n"
     ]
    }
   ],
   "source": [
    "autoencoder.summary()"
   ]
  },
  {
   "cell_type": "code",
   "execution_count": 36,
   "metadata": {},
   "outputs": [
    {
     "name": "stdout",
     "output_type": "stream",
     "text": [
      "Train on 3511 samples, validate on 1506 samples\n",
      "Epoch 1/6\n",
      "3511/3511 [==============================] - 993s 283ms/step - loss: 0.6590 - val_loss: 0.6228\n",
      "Epoch 2/6\n",
      "3511/3511 [==============================] - 911s 260ms/step - loss: 0.6143 - val_loss: 0.6083\n",
      "Epoch 3/6\n",
      "3511/3511 [==============================] - 1029s 293ms/step - loss: 0.6044 - val_loss: 0.6029\n",
      "Epoch 4/6\n",
      "3511/3511 [==============================] - 11092s 3s/step - loss: 0.5988 - val_loss: 0.5944\n",
      "Epoch 5/6\n",
      "3511/3511 [==============================] - 923s 263ms/step - loss: 0.5960 - val_loss: 0.5912\n",
      "Epoch 6/6\n",
      "3511/3511 [==============================] - 1133s 323ms/step - loss: 0.5930 - val_loss: 0.5921\n"
     ]
    },
    {
     "data": {
      "text/plain": [
       "<keras.callbacks.callbacks.History at 0x25b03078208>"
      ]
     },
     "execution_count": 36,
     "metadata": {},
     "output_type": "execute_result"
    }
   ],
   "source": [
    "autoencoder.fit(\n",
    "    dog_images, \n",
    "    dog_images,\n",
    "    epochs = 5,\n",
    "    batch_size = 50,\n",
    "    shuffle = True,\n",
    "    validation_split=0.3,\n",
    ")"
   ]
  },
  {
   "cell_type": "code",
   "execution_count": 37,
   "metadata": {},
   "outputs": [],
   "source": [
    "image = autoencoder.predict(np.asarray([dog_images[1]]))"
   ]
  },
  {
   "cell_type": "code",
   "execution_count": 38,
   "metadata": {},
   "outputs": [
    {
     "data": {
      "image/png": "[encoded data removed]",
      "text/plain": [
       "<PIL.Image.Image image mode=L size=100x100 at 0x25B03576128>"
      ]
     },
     "execution_count": 38,
     "metadata": {},
     "output_type": "execute_result"
    }
   ],
   "source": [
    "keras.preprocessing.image.array_to_img(dog_images[1])"
   ]
  },
  {
   "cell_type": "code",
   "execution_count": 39,
   "metadata": {},
   "outputs": [
    {
     "data": {
      "image/png": "[encoded data removed]",
      "text/plain": [
       "<PIL.Image.Image image mode=L size=100x100 at 0x25B033644A8>"
      ]
     },
     "execution_count": 39,
     "metadata": {},
     "output_type": "execute_result"
    }
   ],
   "source": [
    "keras.preprocessing.image.array_to_img(image[0])"
   ]
  },
  {
   "cell_type": "markdown",
   "metadata": {},
   "source": [
    " "
   ]
  }
 ],
 "metadata": {
  "kernelspec": {
   "display_name": "Python 3",
   "language": "python",
   "name": "python3"
  },
  "language_info": {
   "codemirror_mode": {
    "name": "ipython",
    "version": 3
   },
   "file_extension": ".py",
   "mimetype": "text/x-python",
   "name": "python",
   "nbconvert_exporter": "python",
   "pygments_lexer": "ipython3",
   "version": "3.6.10"
  }
 },
 "nbformat": 4,
 "nbformat_minor": 4
}
